{
 "cells": [
  {
   "cell_type": "code",
   "execution_count": 1,
   "metadata": {},
   "outputs": [],
   "source": [
    "import pandas as pd"
   ]
  },
  {
   "cell_type": "code",
   "execution_count": 2,
   "metadata": {},
   "outputs": [],
   "source": [
    "video_games_raw_tbl=pd.read_csv(\"../Data/Video_Game_Sales_as_of_Jan_2017.csv\")"
   ]
  },
  {
   "cell_type": "code",
   "execution_count": 3,
   "metadata": {
    "tags": []
   },
   "outputs": [
    {
     "output_type": "stream",
     "name": "stdout",
     "text": "<class 'pandas.core.frame.DataFrame'>\nRangeIndex: 17416 entries, 0 to 17415\nData columns (total 15 columns):\n #   Column           Non-Null Count  Dtype  \n---  ------           --------------  -----  \n 0   Name             17416 non-null  object \n 1   Platform         17416 non-null  object \n 2   Year_of_Release  17408 non-null  float64\n 3   Genre            17416 non-null  object \n 4   Publisher        17415 non-null  object \n 5   NA_Sales         17416 non-null  float64\n 6   EU_Sales         17416 non-null  float64\n 7   JP_Sales         17416 non-null  float64\n 8   Other_Sales      17416 non-null  float64\n 9   Global_Sales     17416 non-null  float64\n 10  Critic_Score     8336 non-null   float64\n 11  Critic_Count     8336 non-null   float64\n 12  User_Score       7798 non-null   float64\n 13  User_Count       7798 non-null   float64\n 14  Rating           10252 non-null  object \ndtypes: float64(10), object(5)\nmemory usage: 2.0+ MB\n"
    }
   ],
   "source": [
    "video_games_raw_tbl.info()"
   ]
  },
  {
   "cell_type": "code",
   "execution_count": 4,
   "metadata": {},
   "outputs": [
    {
     "output_type": "execute_result",
     "data": {
      "text/plain": "       Year_of_Release      NA_Sales      EU_Sales      JP_Sales  \\\ncount     17408.000000  17416.000000  17416.000000  17416.000000   \nmean       2006.630859      0.254534      0.140727      0.075020   \nstd           5.901598      0.800673      0.497341      0.303412   \nmin        1976.000000      0.000000      0.000000      0.000000   \n25%        2003.000000      0.000000      0.000000      0.000000   \n50%        2008.000000      0.070000      0.020000      0.000000   \n75%        2011.000000      0.230000      0.100000      0.030000   \nmax        2017.000000     41.360000     28.960000     10.220000   \n\n        Other_Sales  Global_Sales  Critic_Score  Critic_Count   User_Score  \\\ncount  17416.000000  17416.000000   8336.000000   8336.000000  7798.000000   \nmean       0.045908      0.516469     68.912548     26.192059     7.117056   \nstd        0.183932      1.526124     13.964937     18.991526     1.502410   \nmin        0.000000      0.010000     13.000000      3.000000     0.000000   \n25%        0.000000      0.050000     60.000000     11.000000     6.400000   \n50%        0.010000      0.160000     71.000000     21.000000     7.500000   \n75%        0.030000      0.450000     79.000000     36.000000     8.200000   \nmax       10.570000     82.540000     98.000000    113.000000     9.700000   \n\n         User_Count  \ncount   7798.000000  \nmean     162.672480  \nstd      562.837954  \nmin        4.000000  \n25%       10.000000  \n50%       25.000000  \n75%       81.000000  \nmax    10766.000000  ",
      "text/html": "<div>\n<style scoped>\n    .dataframe tbody tr th:only-of-type {\n        vertical-align: middle;\n    }\n\n    .dataframe tbody tr th {\n        vertical-align: top;\n    }\n\n    .dataframe thead th {\n        text-align: right;\n    }\n</style>\n<table border=\"1\" class=\"dataframe\">\n  <thead>\n    <tr style=\"text-align: right;\">\n      <th></th>\n      <th>Year_of_Release</th>\n      <th>NA_Sales</th>\n      <th>EU_Sales</th>\n      <th>JP_Sales</th>\n      <th>Other_Sales</th>\n      <th>Global_Sales</th>\n      <th>Critic_Score</th>\n      <th>Critic_Count</th>\n      <th>User_Score</th>\n      <th>User_Count</th>\n    </tr>\n  </thead>\n  <tbody>\n    <tr>\n      <th>count</th>\n      <td>17408.000000</td>\n      <td>17416.000000</td>\n      <td>17416.000000</td>\n      <td>17416.000000</td>\n      <td>17416.000000</td>\n      <td>17416.000000</td>\n      <td>8336.000000</td>\n      <td>8336.000000</td>\n      <td>7798.000000</td>\n      <td>7798.000000</td>\n    </tr>\n    <tr>\n      <th>mean</th>\n      <td>2006.630859</td>\n      <td>0.254534</td>\n      <td>0.140727</td>\n      <td>0.075020</td>\n      <td>0.045908</td>\n      <td>0.516469</td>\n      <td>68.912548</td>\n      <td>26.192059</td>\n      <td>7.117056</td>\n      <td>162.672480</td>\n    </tr>\n    <tr>\n      <th>std</th>\n      <td>5.901598</td>\n      <td>0.800673</td>\n      <td>0.497341</td>\n      <td>0.303412</td>\n      <td>0.183932</td>\n      <td>1.526124</td>\n      <td>13.964937</td>\n      <td>18.991526</td>\n      <td>1.502410</td>\n      <td>562.837954</td>\n    </tr>\n    <tr>\n      <th>min</th>\n      <td>1976.000000</td>\n      <td>0.000000</td>\n      <td>0.000000</td>\n      <td>0.000000</td>\n      <td>0.000000</td>\n      <td>0.010000</td>\n      <td>13.000000</td>\n      <td>3.000000</td>\n      <td>0.000000</td>\n      <td>4.000000</td>\n    </tr>\n    <tr>\n      <th>25%</th>\n      <td>2003.000000</td>\n      <td>0.000000</td>\n      <td>0.000000</td>\n      <td>0.000000</td>\n      <td>0.000000</td>\n      <td>0.050000</td>\n      <td>60.000000</td>\n      <td>11.000000</td>\n      <td>6.400000</td>\n      <td>10.000000</td>\n    </tr>\n    <tr>\n      <th>50%</th>\n      <td>2008.000000</td>\n      <td>0.070000</td>\n      <td>0.020000</td>\n      <td>0.000000</td>\n      <td>0.010000</td>\n      <td>0.160000</td>\n      <td>71.000000</td>\n      <td>21.000000</td>\n      <td>7.500000</td>\n      <td>25.000000</td>\n    </tr>\n    <tr>\n      <th>75%</th>\n      <td>2011.000000</td>\n      <td>0.230000</td>\n      <td>0.100000</td>\n      <td>0.030000</td>\n      <td>0.030000</td>\n      <td>0.450000</td>\n      <td>79.000000</td>\n      <td>36.000000</td>\n      <td>8.200000</td>\n      <td>81.000000</td>\n    </tr>\n    <tr>\n      <th>max</th>\n      <td>2017.000000</td>\n      <td>41.360000</td>\n      <td>28.960000</td>\n      <td>10.220000</td>\n      <td>10.570000</td>\n      <td>82.540000</td>\n      <td>98.000000</td>\n      <td>113.000000</td>\n      <td>9.700000</td>\n      <td>10766.000000</td>\n    </tr>\n  </tbody>\n</table>\n</div>"
     },
     "metadata": {},
     "execution_count": 4
    }
   ],
   "source": [
    "video_games_raw_tbl.describe()"
   ]
  },
  {
   "cell_type": "code",
   "execution_count": 18,
   "metadata": {},
   "outputs": [],
   "source": [
    "sales_summary=(video_games_raw_tbl.loc[:,[\"Platform\",\"Genre\",\"Global_Sales\"]]\n",
    "                    .groupby([\"Platform\",\"Genre\"])\n",
    "                    .agg(Revenue=(\"Global_Sales\",\"sum\"))\n",
    "                    .reset_index()\n",
    ")"
   ]
  },
  {
   "cell_type": "code",
   "execution_count": null,
   "metadata": {},
   "outputs": [],
   "source": []
  }
 ],
 "metadata": {
  "language_info": {
   "codemirror_mode": {
    "name": "ipython",
    "version": 3
   },
   "file_extension": ".py",
   "mimetype": "text/x-python",
   "name": "python",
   "nbconvert_exporter": "python",
   "pygments_lexer": "ipython3",
   "version": "3.7.4-final"
  },
  "orig_nbformat": 2,
  "kernelspec": {
   "name": "python3",
   "display_name": "Python 3"
  }
 },
 "nbformat": 4,
 "nbformat_minor": 2
}
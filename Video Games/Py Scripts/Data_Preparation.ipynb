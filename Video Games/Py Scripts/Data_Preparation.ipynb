{
 "cells": [
  {
   "cell_type": "code",
   "execution_count": 1,
   "metadata": {},
   "outputs": [],
   "source": [
    "import pandas as pd\n",
    "from bokeh.io import output_file, show\n",
    "from bokeh.models import ColumnDataSource\n",
    "from bokeh.palettes import GnBu3, OrRd3\n",
    "from bokeh.plotting import figure\n",
    "\n",
    "import plotly.express as px\n",
    "\n",
    "\n"
   ]
  },
  {
   "cell_type": "code",
   "execution_count": 6,
   "metadata": {},
   "outputs": [],
   "source": [
    "video_games_raw_tbl=pd.read_csv(\"../Data/Video_Game_Sales_as_of_Jan_2017.csv\")"
   ]
  },
  {
   "cell_type": "code",
   "execution_count": 7,
   "metadata": {
    "tags": []
   },
   "outputs": [
    {
     "output_type": "stream",
     "name": "stdout",
     "text": "<class 'pandas.core.frame.DataFrame'>\nRangeIndex: 17416 entries, 0 to 17415\nData columns (total 15 columns):\n #   Column           Non-Null Count  Dtype  \n---  ------           --------------  -----  \n 0   Name             17416 non-null  object \n 1   Platform         17416 non-null  object \n 2   Year_of_Release  17408 non-null  float64\n 3   Genre            17416 non-null  object \n 4   Publisher        17415 non-null  object \n 5   NA_Sales         17416 non-null  float64\n 6   EU_Sales         17416 non-null  float64\n 7   JP_Sales         17416 non-null  float64\n 8   Other_Sales      17416 non-null  float64\n 9   Global_Sales     17416 non-null  float64\n 10  Critic_Score     8336 non-null   float64\n 11  Critic_Count     8336 non-null   float64\n 12  User_Score       7798 non-null   float64\n 13  User_Count       7798 non-null   float64\n 14  Rating           10252 non-null  object \ndtypes: float64(10), object(5)\nmemory usage: 2.0+ MB\n"
    }
   ],
   "source": [
    "video_games_raw_tbl.info()"
   ]
  },
  {
   "cell_type": "code",
   "execution_count": 8,
   "metadata": {},
   "outputs": [
    {
     "output_type": "execute_result",
     "data": {
      "text/plain": "       Year_of_Release      NA_Sales      EU_Sales      JP_Sales  \\\ncount     17408.000000  17416.000000  17416.000000  17416.000000   \nmean       2006.630859      0.254534      0.140727      0.075020   \nstd           5.901598      0.800673      0.497341      0.303412   \nmin        1976.000000      0.000000      0.000000      0.000000   \n25%        2003.000000      0.000000      0.000000      0.000000   \n50%        2008.000000      0.070000      0.020000      0.000000   \n75%        2011.000000      0.230000      0.100000      0.030000   \nmax        2017.000000     41.360000     28.960000     10.220000   \n\n        Other_Sales  Global_Sales  Critic_Score  Critic_Count   User_Score  \\\ncount  17416.000000  17416.000000   8336.000000   8336.000000  7798.000000   \nmean       0.045908      0.516469     68.912548     26.192059     7.117056   \nstd        0.183932      1.526124     13.964937     18.991526     1.502410   \nmin        0.000000      0.010000     13.000000      3.000000     0.000000   \n25%        0.000000      0.050000     60.000000     11.000000     6.400000   \n50%        0.010000      0.160000     71.000000     21.000000     7.500000   \n75%        0.030000      0.450000     79.000000     36.000000     8.200000   \nmax       10.570000     82.540000     98.000000    113.000000     9.700000   \n\n         User_Count  \ncount   7798.000000  \nmean     162.672480  \nstd      562.837954  \nmin        4.000000  \n25%       10.000000  \n50%       25.000000  \n75%       81.000000  \nmax    10766.000000  ",
      "text/html": "<div>\n<style scoped>\n    .dataframe tbody tr th:only-of-type {\n        vertical-align: middle;\n    }\n\n    .dataframe tbody tr th {\n        vertical-align: top;\n    }\n\n    .dataframe thead th {\n        text-align: right;\n    }\n</style>\n<table border=\"1\" class=\"dataframe\">\n  <thead>\n    <tr style=\"text-align: right;\">\n      <th></th>\n      <th>Year_of_Release</th>\n      <th>NA_Sales</th>\n      <th>EU_Sales</th>\n      <th>JP_Sales</th>\n      <th>Other_Sales</th>\n      <th>Global_Sales</th>\n      <th>Critic_Score</th>\n      <th>Critic_Count</th>\n      <th>User_Score</th>\n      <th>User_Count</th>\n    </tr>\n  </thead>\n  <tbody>\n    <tr>\n      <th>count</th>\n      <td>17408.000000</td>\n      <td>17416.000000</td>\n      <td>17416.000000</td>\n      <td>17416.000000</td>\n      <td>17416.000000</td>\n      <td>17416.000000</td>\n      <td>8336.000000</td>\n      <td>8336.000000</td>\n      <td>7798.000000</td>\n      <td>7798.000000</td>\n    </tr>\n    <tr>\n      <th>mean</th>\n      <td>2006.630859</td>\n      <td>0.254534</td>\n      <td>0.140727</td>\n      <td>0.075020</td>\n      <td>0.045908</td>\n      <td>0.516469</td>\n      <td>68.912548</td>\n      <td>26.192059</td>\n      <td>7.117056</td>\n      <td>162.672480</td>\n    </tr>\n    <tr>\n      <th>std</th>\n      <td>5.901598</td>\n      <td>0.800673</td>\n      <td>0.497341</td>\n      <td>0.303412</td>\n      <td>0.183932</td>\n      <td>1.526124</td>\n      <td>13.964937</td>\n      <td>18.991526</td>\n      <td>1.502410</td>\n      <td>562.837954</td>\n    </tr>\n    <tr>\n      <th>min</th>\n      <td>1976.000000</td>\n      <td>0.000000</td>\n      <td>0.000000</td>\n      <td>0.000000</td>\n      <td>0.000000</td>\n      <td>0.010000</td>\n      <td>13.000000</td>\n      <td>3.000000</td>\n      <td>0.000000</td>\n      <td>4.000000</td>\n    </tr>\n    <tr>\n      <th>25%</th>\n      <td>2003.000000</td>\n      <td>0.000000</td>\n      <td>0.000000</td>\n      <td>0.000000</td>\n      <td>0.000000</td>\n      <td>0.050000</td>\n      <td>60.000000</td>\n      <td>11.000000</td>\n      <td>6.400000</td>\n      <td>10.000000</td>\n    </tr>\n    <tr>\n      <th>50%</th>\n      <td>2008.000000</td>\n      <td>0.070000</td>\n      <td>0.020000</td>\n      <td>0.000000</td>\n      <td>0.010000</td>\n      <td>0.160000</td>\n      <td>71.000000</td>\n      <td>21.000000</td>\n      <td>7.500000</td>\n      <td>25.000000</td>\n    </tr>\n    <tr>\n      <th>75%</th>\n      <td>2011.000000</td>\n      <td>0.230000</td>\n      <td>0.100000</td>\n      <td>0.030000</td>\n      <td>0.030000</td>\n      <td>0.450000</td>\n      <td>79.000000</td>\n      <td>36.000000</td>\n      <td>8.200000</td>\n      <td>81.000000</td>\n    </tr>\n    <tr>\n      <th>max</th>\n      <td>2017.000000</td>\n      <td>41.360000</td>\n      <td>28.960000</td>\n      <td>10.220000</td>\n      <td>10.570000</td>\n      <td>82.540000</td>\n      <td>98.000000</td>\n      <td>113.000000</td>\n      <td>9.700000</td>\n      <td>10766.000000</td>\n    </tr>\n  </tbody>\n</table>\n</div>"
     },
     "metadata": {},
     "execution_count": 8
    }
   ],
   "source": [
    "video_games_raw_tbl.describe()"
   ]
  },
  {
   "cell_type": "code",
   "execution_count": 47,
   "metadata": {},
   "outputs": [],
   "source": [
    "revenue_check=video_games_raw_tbl.groupby([\"Platform\"]).agg(Revenue=(\"Global_Sales\",\"sum\")).reset_index()\n",
    "mask_revenue=revenue_check.Revenue>100"
   ]
  },
  {
   "cell_type": "code",
   "execution_count": 48,
   "metadata": {},
   "outputs": [
    {
     "output_type": "execute_result",
     "data": {
      "text/plain": "0     False\n1     False\n2      True\n3     False\n4      True\n5      True\n6      True\n7      True\n8     False\n9     False\n10     True\n11     True\n12    False\n13     True\n14    False\n15     True\n16     True\n17     True\n18     True\n19     True\n20    False\n21    False\n22    False\n23     True\n24    False\n25    False\n26     True\n27    False\n28     True\n29     True\n30     True\nName: Revenue, dtype: bool"
     },
     "metadata": {},
     "execution_count": 48
    }
   ],
   "source": [
    "mask_revenue"
   ]
  },
  {
   "cell_type": "code",
   "execution_count": 54,
   "metadata": {},
   "outputs": [],
   "source": [
    "rev_platform=revenue_check.loc[mask_revenue].loc[:,\"Platform\"]"
   ]
  },
  {
   "cell_type": "code",
   "execution_count": 65,
   "metadata": {},
   "outputs": [
    {
     "output_type": "execute_result",
     "data": {
      "text/plain": "2      3DS\n4       DS\n5        G\n6      GBA\n7       GC\n10     N64\n11     NES\n13      PC\n15      PS\n16     PS2\n17     PS3\n18     PS4\n19     PSP\n23    SNES\n26     Wii\n28       X\n29    X360\n30    XOne\nName: Platform, dtype: object"
     },
     "metadata": {},
     "execution_count": 65
    }
   ],
   "source": [
    "rev_platform"
   ]
  },
  {
   "cell_type": "code",
   "execution_count": 75,
   "metadata": {},
   "outputs": [],
   "source": [
    "sales_summary=(video_games_raw_tbl.merge(rev_platform,how=\"right\",on=\"Platform\")\n",
    "                    .loc[:,[\"Platform\",\"Genre\",\"Global_Sales\"]]\n",
    "                    .groupby([\"Platform\",\"Genre\"])\n",
    "                    .agg(Revenue=(\"Global_Sales\",\"sum\"))\n",
    "                    .reset_index()\n",
    "                    .sort_values(by=[\"Revenue\"])\n",
    "\n",
    ")\n",
    "\n",
    "\n",
    "sales_summary['Revenue']=sales_summary.Revenue*-1"
   ]
  },
  {
   "cell_type": "code",
   "execution_count": 76,
   "metadata": {},
   "outputs": [
    {
     "output_type": "display_data",
     "data": {
      "application/vnd.plotly.v1+json": {
       "config": {
        "plotlyServerURL": "https://plot.ly"
       },
       "data": [
        {
         "alignmentgroup": "True",
         "customdata": [
          [
           -0.06,
           "PS4"
          ],
          [
           -0.42000000000000004,
           "X"
          ],
          [
           -0.5900000000000001,
           "PS3"
          ],
          [
           -0.8500000000000001,
           "X360"
          ],
          [
           -1.0100000000000002,
           "PC"
          ],
          [
           -3.4100000000000006,
           "N64"
          ],
          [
           -4.699999999999998,
           "GC"
          ],
          [
           -5.579999999999999,
           "PSP"
          ],
          [
           -5.67,
           "3DS"
          ],
          [
           -5.8999999999999995,
           "PS2"
          ],
          [
           -6.38,
           "SNES"
          ],
          [
           -12.079999999999998,
           "PS"
          ],
          [
           -12.950000000000005,
           "GBA"
          ],
          [
           -15.41,
           "Wii"
          ],
          [
           -21.000000000000004,
           "NES"
          ],
          [
           -47.469999999999985,
           "G"
          ],
          [
           -83.00000000000016,
           "DS"
          ]
         ],
         "hovertemplate": "Genre=Puzzle<br>Revenue=%{customdata[0]}<br>Platform=%{customdata[1]}<extra></extra>",
         "legendgroup": "Puzzle",
         "marker": {
          "color": "#636efa"
         },
         "name": "Puzzle",
         "offsetgroup": "Puzzle",
         "orientation": "h",
         "showlegend": true,
         "textposition": "auto",
         "type": "bar",
         "x": [
          -0.06,
          -0.42000000000000004,
          -0.5900000000000001,
          -0.8500000000000001,
          -1.0100000000000002,
          -3.4100000000000006,
          -4.699999999999998,
          -5.579999999999999,
          -5.67,
          -5.8999999999999995,
          -6.38,
          -12.079999999999998,
          -12.950000000000005,
          -15.41,
          -21.000000000000004,
          -47.469999999999985,
          -83.00000000000016
         ],
         "xaxis": "x",
         "y": [
          "PS4",
          "X",
          "PS3",
          "X360",
          "PC",
          "N64",
          "GC",
          "PSP",
          "3DS",
          "PS2",
          "SNES",
          "PS",
          "GBA",
          "Wii",
          "NES",
          "G",
          "DS"
         ],
         "yaxis": "y"
        },
        {
         "alignmentgroup": "True",
         "customdata": [
          [
           -0.29000000000000004,
           "PC"
          ],
          [
           -2.5499999999999994,
           "XOne"
          ],
          [
           -4.209999999999999,
           "GBA"
          ],
          [
           -6.54,
           "NES"
          ],
          [
           -7.119999999999998,
           "DS"
          ],
          [
           -9.129999999999995,
           "PS4"
          ],
          [
           -10.669999999999996,
           "3DS"
          ],
          [
           -13.549999999999992,
           "X"
          ],
          [
           -18.429999999999993,
           "GC"
          ],
          [
           -21.829999999999995,
           "PSP"
          ],
          [
           -22.08,
           "N64"
          ],
          [
           -23.74,
           "Wii"
          ],
          [
           -26.949999999999996,
           "SNES"
          ],
          [
           -37.43000000000001,
           "X360"
          ],
          [
           -51.260000000000005,
           "PS3"
          ],
          [
           -72.67999999999995,
           "PS"
          ],
          [
           -92.63000000000002,
           "PS2"
          ]
         ],
         "hovertemplate": "Genre=Fighting<br>Revenue=%{customdata[0]}<br>Platform=%{customdata[1]}<extra></extra>",
         "legendgroup": "Fighting",
         "marker": {
          "color": "#EF553B"
         },
         "name": "Fighting",
         "offsetgroup": "Fighting",
         "orientation": "h",
         "showlegend": true,
         "textposition": "auto",
         "type": "bar",
         "x": [
          -0.29000000000000004,
          -2.5499999999999994,
          -4.209999999999999,
          -6.54,
          -7.119999999999998,
          -9.129999999999995,
          -10.669999999999996,
          -13.549999999999992,
          -18.429999999999993,
          -21.829999999999995,
          -22.08,
          -23.74,
          -26.949999999999996,
          -37.43000000000001,
          -51.260000000000005,
          -72.67999999999995,
          -92.63000000000002
         ],
         "xaxis": "x",
         "y": [
          "PC",
          "XOne",
          "GBA",
          "NES",
          "DS",
          "PS4",
          "3DS",
          "X",
          "GC",
          "PSP",
          "N64",
          "Wii",
          "SNES",
          "X360",
          "PS3",
          "PS",
          "PS2"
         ],
         "yaxis": "y"
        },
        {
         "alignmentgroup": "True",
         "customdata": [
          [
           -0.45,
           "N64"
          ],
          [
           -1.5,
           "SNES"
          ],
          [
           -2.97,
           "XOne"
          ],
          [
           -3.069999999999999,
           "X"
          ],
          [
           -4.38,
           "NES"
          ],
          [
           -5.05,
           "3DS"
          ],
          [
           -5.930000000000001,
           "GC"
          ],
          [
           -7.209999999999997,
           "PS4"
          ],
          [
           -10.339999999999975,
           "PC"
          ],
          [
           -11.14999999999993,
           "PSP"
          ],
          [
           -14.699999999999998,
           "GBA"
          ],
          [
           -15.199999999999992,
           "X360"
          ],
          [
           -17.16,
           "G"
          ],
          [
           -17.88,
           "Wii"
          ],
          [
           -20.980000000000008,
           "PS"
          ],
          [
           -21.450000000000102,
           "PS2"
          ],
          [
           -22.50000000000001,
           "PS3"
          ],
          [
           -46.18999999999999,
           "DS"
          ]
         ],
         "hovertemplate": "Genre=Adventure<br>Revenue=%{customdata[0]}<br>Platform=%{customdata[1]}<extra></extra>",
         "legendgroup": "Adventure",
         "marker": {
          "color": "#00cc96"
         },
         "name": "Adventure",
         "offsetgroup": "Adventure",
         "orientation": "h",
         "showlegend": true,
         "textposition": "auto",
         "type": "bar",
         "x": [
          -0.45,
          -1.5,
          -2.97,
          -3.069999999999999,
          -4.38,
          -5.05,
          -5.930000000000001,
          -7.209999999999997,
          -10.339999999999975,
          -11.14999999999993,
          -14.699999999999998,
          -15.199999999999992,
          -17.16,
          -17.88,
          -20.980000000000008,
          -21.450000000000102,
          -22.50000000000001,
          -46.18999999999999
         ],
         "xaxis": "x",
         "y": [
          "N64",
          "SNES",
          "XOne",
          "X",
          "NES",
          "3DS",
          "GC",
          "PS4",
          "PC",
          "PSP",
          "GBA",
          "X360",
          "G",
          "Wii",
          "PS",
          "PS2",
          "PS3",
          "DS"
         ],
         "yaxis": "y"
        },
        {
         "alignmentgroup": "True",
         "customdata": [
          [
           -0.48,
           "XOne"
          ],
          [
           -0.72,
           "PS4"
          ],
          [
           -2.189999999999999,
           "3DS"
          ],
          [
           -2.7799999999999994,
           "X"
          ],
          [
           -4.319999999999999,
           "GC"
          ],
          [
           -4.83,
           "PS3"
          ],
          [
           -4.98,
           "SNES"
          ],
          [
           -5.039999999999999,
           "Wii"
          ],
          [
           -7.449999999999999,
           "GBA"
          ],
          [
           -8.05,
           "G"
          ],
          [
           -10.06,
           "X360"
          ],
          [
           -10.329999999999998,
           "N64"
          ],
          [
           -10.56999999999999,
           "PSP"
          ],
          [
           -14.909999999999998,
           "DS"
          ],
          [
           -15.179999999999993,
           "PS2"
          ],
          [
           -21.69000000000001,
           "PS"
          ],
          [
           -46.720000000000056,
           "PC"
          ]
         ],
         "hovertemplate": "Genre=Strategy<br>Revenue=%{customdata[0]}<br>Platform=%{customdata[1]}<extra></extra>",
         "legendgroup": "Strategy",
         "marker": {
          "color": "#ab63fa"
         },
         "name": "Strategy",
         "offsetgroup": "Strategy",
         "orientation": "h",
         "showlegend": true,
         "textposition": "auto",
         "type": "bar",
         "x": [
          -0.48,
          -0.72,
          -2.189999999999999,
          -2.7799999999999994,
          -4.319999999999999,
          -4.83,
          -4.98,
          -5.039999999999999,
          -7.449999999999999,
          -8.05,
          -10.06,
          -10.329999999999998,
          -10.56999999999999,
          -14.909999999999998,
          -15.179999999999993,
          -21.69000000000001,
          -46.720000000000056
         ],
         "xaxis": "x",
         "y": [
          "XOne",
          "PS4",
          "3DS",
          "X",
          "GC",
          "PS3",
          "SNES",
          "Wii",
          "GBA",
          "G",
          "X360",
          "N64",
          "PSP",
          "DS",
          "PS2",
          "PS",
          "PC"
         ],
         "yaxis": "y"
        },
        {
         "alignmentgroup": "True",
         "customdata": [
          [
           -0.5100000000000001,
           "PC"
          ],
          [
           -1.02,
           "XOne"
          ],
          [
           -8.31,
           "PS4"
          ],
          [
           -9.659999999999997,
           "X"
          ],
          [
           -11.419999999999996,
           "X360"
          ],
          [
           -17.120000000000008,
           "PSP"
          ],
          [
           -28.660000000000007,
           "GC"
          ],
          [
           -29.830000000000002,
           "PS3"
          ],
          [
           -34.29,
           "3DS"
          ],
          [
           -36.129999999999995,
           "N64"
          ],
          [
           -54.910000000000004,
           "G"
          ],
          [
           -64.21000000000001,
           "PS"
          ],
          [
           -65.65000000000002,
           "SNES"
          ],
          [
           -72.50999999999992,
           "PS2"
          ],
          [
           -75.97999999999995,
           "DS"
          ],
          [
           -78.32,
           "GBA"
          ],
          [
           -89.12999999999998,
           "Wii"
          ],
          [
           -95.78000000000003,
           "NES"
          ]
         ],
         "hovertemplate": "Genre=Platform<br>Revenue=%{customdata[0]}<br>Platform=%{customdata[1]}<extra></extra>",
         "legendgroup": "Platform",
         "marker": {
          "color": "#FFA15A"
         },
         "name": "Platform",
         "offsetgroup": "Platform",
         "orientation": "h",
         "showlegend": true,
         "textposition": "auto",
         "type": "bar",
         "x": [
          -0.5100000000000001,
          -1.02,
          -8.31,
          -9.659999999999997,
          -11.419999999999996,
          -17.120000000000008,
          -28.660000000000007,
          -29.830000000000002,
          -34.29,
          -36.129999999999995,
          -54.910000000000004,
          -64.21000000000001,
          -65.65000000000002,
          -72.50999999999992,
          -75.97999999999995,
          -78.32,
          -89.12999999999998,
          -95.78000000000003
         ],
         "xaxis": "x",
         "y": [
          "PC",
          "XOne",
          "PS4",
          "X",
          "X360",
          "PSP",
          "GC",
          "PS3",
          "3DS",
          "N64",
          "G",
          "PS",
          "SNES",
          "PS2",
          "DS",
          "GBA",
          "Wii",
          "NES"
         ],
         "yaxis": "y"
        },
        {
         "alignmentgroup": "True",
         "customdata": [
          [
           -0.7700000000000001,
           "XOne"
          ],
          [
           -1.4000000000000001,
           "PS4"
          ],
          [
           -3.55,
           "G"
          ],
          [
           -5.630000000000001,
           "SNES"
          ],
          [
           -5.93,
           "GBA"
          ],
          [
           -6.2899999999999965,
           "PSP"
          ],
          [
           -7.1099999999999985,
           "X"
          ],
          [
           -8.590000000000002,
           "GC"
          ],
          [
           -10.19,
           "N64"
          ],
          [
           -10.459999999999992,
           "PS3"
          ],
          [
           -14.210000000000003,
           "X360"
          ],
          [
           -25.33,
           "PS"
          ],
          [
           -28.17,
           "3DS"
          ],
          [
           -36.08000000000002,
           "Wii"
          ],
          [
           -42.680000000000014,
           "PS2"
          ],
          [
           -53.460000000000036,
           "PC"
          ],
          [
           -130.58999999999995,
           "DS"
          ]
         ],
         "hovertemplate": "Genre=Simulation<br>Revenue=%{customdata[0]}<br>Platform=%{customdata[1]}<extra></extra>",
         "legendgroup": "Simulation",
         "marker": {
          "color": "#19d3f3"
         },
         "name": "Simulation",
         "offsetgroup": "Simulation",
         "orientation": "h",
         "showlegend": true,
         "textposition": "auto",
         "type": "bar",
         "x": [
          -0.7700000000000001,
          -1.4000000000000001,
          -3.55,
          -5.630000000000001,
          -5.93,
          -6.2899999999999965,
          -7.1099999999999985,
          -8.590000000000002,
          -10.19,
          -10.459999999999992,
          -14.210000000000003,
          -25.33,
          -28.17,
          -36.08000000000002,
          -42.680000000000014,
          -53.460000000000036,
          -130.58999999999995
         ],
         "xaxis": "x",
         "y": [
          "XOne",
          "PS4",
          "G",
          "SNES",
          "GBA",
          "PSP",
          "X",
          "GC",
          "N64",
          "PS3",
          "X360",
          "PS",
          "3DS",
          "Wii",
          "PS2",
          "PC",
          "DS"
         ],
         "yaxis": "y"
        },
        {
         "alignmentgroup": "True",
         "customdata": [
          [
           -1.2,
           "G"
          ],
          [
           -1.3000000000000003,
           "3DS"
          ],
          [
           -3.609999999999998,
           "GBA"
          ],
          [
           -6.07,
           "SNES"
          ],
          [
           -7.929999999999997,
           "DS"
          ],
          [
           -13.649999999999999,
           "GC"
          ],
          [
           -19.27000000000001,
           "N64"
          ],
          [
           -19.680000000000003,
           "PSP"
          ],
          [
           -28.169999999999998,
           "Wii"
          ],
          [
           -35.620000000000005,
           "NES"
          ],
          [
           -39.31000000000002,
           "PS"
          ],
          [
           -46.78000000000001,
           "PC"
          ],
          [
           -63.56000000000003,
           "X"
          ],
          [
           -65.77,
           "XOne"
          ],
          [
           -95.40999999999997,
           "PS4"
          ],
          [
           -108.56999999999998,
           "PS2"
          ],
          [
           -192.76999999999984,
           "PS3"
          ],
          [
           -277.66999999999956,
           "X360"
          ]
         ],
         "hovertemplate": "Genre=Shooter<br>Revenue=%{customdata[0]}<br>Platform=%{customdata[1]}<extra></extra>",
         "legendgroup": "Shooter",
         "marker": {
          "color": "#FF6692"
         },
         "name": "Shooter",
         "offsetgroup": "Shooter",
         "orientation": "h",
         "showlegend": true,
         "textposition": "auto",
         "type": "bar",
         "x": [
          -1.2,
          -1.3000000000000003,
          -3.609999999999998,
          -6.07,
          -7.929999999999997,
          -13.649999999999999,
          -19.27000000000001,
          -19.680000000000003,
          -28.169999999999998,
          -35.620000000000005,
          -39.31000000000002,
          -46.78000000000001,
          -63.56000000000003,
          -65.77,
          -95.40999999999997,
          -108.56999999999998,
          -192.76999999999984,
          -277.66999999999956
         ],
         "xaxis": "x",
         "y": [
          "G",
          "3DS",
          "GBA",
          "SNES",
          "DS",
          "GC",
          "N64",
          "PSP",
          "Wii",
          "NES",
          "PS",
          "PC",
          "X",
          "XOne",
          "PS4",
          "PS2",
          "PS3",
          "X360"
         ],
         "yaxis": "y"
        },
        {
         "alignmentgroup": "True",
         "customdata": [
          [
           -3.36,
           "N64"
          ],
          [
           -11.91,
           "XOne"
          ],
          [
           -13.15,
           "GC"
          ],
          [
           -13.509999999999994,
           "X"
          ],
          [
           -13.73,
           "Wii"
          ],
          [
           -18.78,
           "NES"
          ],
          [
           -34.19999999999998,
           "PS4"
          ],
          [
           -36.429999999999986,
           "SNES"
          ],
          [
           -48.28000000000003,
           "PC"
          ],
          [
           -49.17000000000007,
           "PSP"
          ],
          [
           -64.20999999999995,
           "GBA"
          ],
          [
           -71.46,
           "X360"
          ],
          [
           -73.99,
           "PS3"
          ],
          [
           -78.29999999999993,
           "PS"
          ],
          [
           -88.24000000000001,
           "G"
          ],
          [
           -90.41000000000003,
           "3DS"
          ],
          [
           -93.49999999999996,
           "PS2"
          ],
          [
           -124.6000000000002,
           "DS"
          ]
         ],
         "hovertemplate": "Genre=Role-Playing<br>Revenue=%{customdata[0]}<br>Platform=%{customdata[1]}<extra></extra>",
         "legendgroup": "Role-Playing",
         "marker": {
          "color": "#B6E880"
         },
         "name": "Role-Playing",
         "offsetgroup": "Role-Playing",
         "orientation": "h",
         "showlegend": true,
         "textposition": "auto",
         "type": "bar",
         "x": [
          -3.36,
          -11.91,
          -13.15,
          -13.509999999999994,
          -13.73,
          -18.78,
          -34.19999999999998,
          -36.429999999999986,
          -48.28000000000003,
          -49.17000000000007,
          -64.20999999999995,
          -71.46,
          -73.99,
          -78.29999999999993,
          -88.24000000000001,
          -90.41000000000003,
          -93.49999999999996,
          -124.6000000000002
         ],
         "xaxis": "x",
         "y": [
          "N64",
          "XOne",
          "GC",
          "X",
          "Wii",
          "NES",
          "PS4",
          "SNES",
          "PC",
          "PSP",
          "GBA",
          "X360",
          "PS3",
          "PS",
          "G",
          "3DS",
          "PS2",
          "DS"
         ],
         "yaxis": "y"
        },
        {
         "alignmentgroup": "True",
         "customdata": [
          [
           -3.59,
           "NES"
          ],
          [
           -5.0200000000000005,
           "SNES"
          ],
          [
           -8.419999999999996,
           "XOne"
          ],
          [
           -8.739999999999991,
           "PC"
          ],
          [
           -8.929999999999996,
           "PS4"
          ],
          [
           -9.58,
           "X"
          ],
          [
           -11.190000000000001,
           "N64"
          ],
          [
           -11.669999999999995,
           "3DS"
          ],
          [
           -13.350000000000001,
           "G"
          ],
          [
           -14.009999999999987,
           "PSP"
          ],
          [
           -16.729999999999997,
           "GC"
          ],
          [
           -36.27999999999999,
           "GBA"
          ],
          [
           -44.91,
           "PS"
          ],
          [
           -47.25000000000005,
           "PS3"
          ],
          [
           -91.99999999999996,
           "X360"
          ],
          [
           -101.16000000000003,
           "PS2"
          ],
          [
           -136.04000000000022,
           "DS"
          ],
          [
           -217.21999999999989,
           "Wii"
          ]
         ],
         "hovertemplate": "Genre=Misc<br>Revenue=%{customdata[0]}<br>Platform=%{customdata[1]}<extra></extra>",
         "legendgroup": "Misc",
         "marker": {
          "color": "#FF97FF"
         },
         "name": "Misc",
         "offsetgroup": "Misc",
         "orientation": "h",
         "showlegend": true,
         "textposition": "auto",
         "type": "bar",
         "x": [
          -3.59,
          -5.0200000000000005,
          -8.419999999999996,
          -8.739999999999991,
          -8.929999999999996,
          -9.58,
          -11.190000000000001,
          -11.669999999999995,
          -13.350000000000001,
          -14.009999999999987,
          -16.729999999999997,
          -36.27999999999999,
          -44.91,
          -47.25000000000005,
          -91.99999999999996,
          -101.16000000000003,
          -136.04000000000022,
          -217.21999999999989
         ],
         "xaxis": "x",
         "y": [
          "NES",
          "SNES",
          "XOne",
          "PC",
          "PS4",
          "X",
          "N64",
          "3DS",
          "G",
          "PSP",
          "GC",
          "GBA",
          "PS",
          "PS3",
          "X360",
          "PS2",
          "DS",
          "Wii"
         ],
         "yaxis": "y"
        },
        {
         "alignmentgroup": "True",
         "customdata": [
          [
           -4.119999999999996,
           "PC"
          ],
          [
           -4.55,
           "G"
          ],
          [
           -9.780000000000001,
           "NES"
          ],
          [
           -10.679999999999998,
           "XOne"
          ],
          [
           -12.749999999999998,
           "PS4"
          ],
          [
           -13.489999999999997,
           "SNES"
          ],
          [
           -15.329999999999998,
           "3DS"
          ],
          [
           -18.820000000000014,
           "GBA"
          ],
          [
           -21.9,
           "GC"
          ],
          [
           -31.529999999999994,
           "X"
          ],
          [
           -34.370000000000005,
           "PSP"
          ],
          [
           -38.14000000000001,
           "DS"
          ],
          [
           -40.090000000000025,
           "N64"
          ],
          [
           -60.41999999999998,
           "Wii"
          ],
          [
           -65.09000000000005,
           "X360"
          ],
          [
           -72.24000000000001,
           "PS3"
          ],
          [
           -103.18999999999996,
           "PS"
          ],
          [
           -156.28000000000017,
           "PS2"
          ]
         ],
         "hovertemplate": "Genre=Racing<br>Revenue=%{customdata[0]}<br>Platform=%{customdata[1]}<extra></extra>",
         "legendgroup": "Racing",
         "marker": {
          "color": "#FECB52"
         },
         "name": "Racing",
         "offsetgroup": "Racing",
         "orientation": "h",
         "showlegend": true,
         "textposition": "auto",
         "type": "bar",
         "x": [
          -4.119999999999996,
          -4.55,
          -9.780000000000001,
          -10.679999999999998,
          -12.749999999999998,
          -13.489999999999997,
          -15.329999999999998,
          -18.820000000000014,
          -21.9,
          -31.529999999999994,
          -34.370000000000005,
          -38.14000000000001,
          -40.090000000000025,
          -60.41999999999998,
          -65.09000000000005,
          -72.24000000000001,
          -103.18999999999996,
          -156.28000000000017
         ],
         "xaxis": "x",
         "y": [
          "PC",
          "G",
          "NES",
          "XOne",
          "PS4",
          "SNES",
          "3DS",
          "GBA",
          "GC",
          "X",
          "PSP",
          "DS",
          "N64",
          "Wii",
          "X360",
          "PS3",
          "PS",
          "PS2"
         ],
         "yaxis": "y"
        },
        {
         "alignmentgroup": "True",
         "customdata": [
          [
           -6.27,
           "3DS"
          ],
          [
           -9.05,
           "G"
          ],
          [
           -12.259999999999991,
           "PC"
          ],
          [
           -16.44000000000002,
           "GBA"
          ],
          [
           -17.87,
           "SNES"
          ],
          [
           -25.529999999999994,
           "GC"
          ],
          [
           -26.849999999999998,
           "NES"
          ],
          [
           -29.009999999999994,
           "XOne"
          ],
          [
           -31.480000000000018,
           "DS"
          ],
          [
           -32.8,
           "N64"
          ],
          [
           -41.63000000000001,
           "PSP"
          ],
          [
           -54.300000000000026,
           "X"
          ],
          [
           -59.43,
           "PS4"
          ],
          [
           -120.98,
           "PS"
          ],
          [
           -134.75,
           "PS3"
          ],
          [
           -139.40999999999997,
           "X360"
          ],
          [
           -273.43999999999943,
           "PS2"
          ],
          [
           -288.90999999999974,
           "Wii"
          ]
         ],
         "hovertemplate": "Genre=Sports<br>Revenue=%{customdata[0]}<br>Platform=%{customdata[1]}<extra></extra>",
         "legendgroup": "Sports",
         "marker": {
          "color": "#636efa"
         },
         "name": "Sports",
         "offsetgroup": "Sports",
         "orientation": "h",
         "showlegend": true,
         "textposition": "auto",
         "type": "bar",
         "x": [
          -6.27,
          -9.05,
          -12.259999999999991,
          -16.44000000000002,
          -17.87,
          -25.529999999999994,
          -26.849999999999998,
          -29.009999999999994,
          -31.480000000000018,
          -32.8,
          -41.63000000000001,
          -54.300000000000026,
          -59.43,
          -120.98,
          -134.75,
          -139.40999999999997,
          -273.43999999999943,
          -288.90999999999974
         ],
         "xaxis": "x",
         "y": [
          "3DS",
          "G",
          "PC",
          "GBA",
          "SNES",
          "GC",
          "NES",
          "XOne",
          "DS",
          "N64",
          "PSP",
          "X",
          "PS4",
          "PS",
          "PS3",
          "X360",
          "PS2",
          "Wii"
         ],
         "yaxis": "y"
        },
        {
         "alignmentgroup": "True",
         "customdata": [
          [
           -7.92,
           "G"
          ],
          [
           -10.079999999999998,
           "SNES"
          ],
          [
           -28.750000000000004,
           "NES"
          ],
          [
           -29.58,
           "N64"
          ],
          [
           -32.439999999999934,
           "PC"
          ],
          [
           -37.839999999999996,
           "GC"
          ],
          [
           -40.24000000000003,
           "XOne"
          ],
          [
           -49.28000000000006,
           "X"
          ],
          [
           -55.800000000000004,
           "GBA"
          ],
          [
           -59.92000000000001,
           "3DS"
          ],
          [
           -64.31000000000014,
           "PSP"
          ],
          [
           -103.24000000000002,
           "PS4"
          ],
          [
           -112.89999999999999,
           "DS"
          ],
          [
           -114.44999999999997,
           "Wii"
          ],
          [
           -127.04999999999991,
           "PS"
          ],
          [
           -240.68999999999988,
           "X360"
          ],
          [
           -272.7899999999997,
           "PS2"
          ],
          [
           -302.8199999999989,
           "PS3"
          ]
         ],
         "hovertemplate": "Genre=Action<br>Revenue=%{customdata[0]}<br>Platform=%{customdata[1]}<extra></extra>",
         "legendgroup": "Action",
         "marker": {
          "color": "#EF553B"
         },
         "name": "Action",
         "offsetgroup": "Action",
         "orientation": "h",
         "showlegend": true,
         "textposition": "auto",
         "type": "bar",
         "x": [
          -7.92,
          -10.079999999999998,
          -28.750000000000004,
          -29.58,
          -32.439999999999934,
          -37.839999999999996,
          -40.24000000000003,
          -49.28000000000006,
          -55.800000000000004,
          -59.92000000000001,
          -64.31000000000014,
          -103.24000000000002,
          -112.89999999999999,
          -114.44999999999997,
          -127.04999999999991,
          -240.68999999999988,
          -272.7899999999997,
          -302.8199999999989
         ],
         "xaxis": "x",
         "y": [
          "G",
          "SNES",
          "NES",
          "N64",
          "PC",
          "GC",
          "XOne",
          "X",
          "GBA",
          "3DS",
          "PSP",
          "PS4",
          "DS",
          "Wii",
          "PS",
          "X360",
          "PS2",
          "PS3"
         ],
         "yaxis": "y"
        }
       ],
       "layout": {
        "barmode": "relative",
        "height": 400,
        "legend": {
         "title": {
          "text": "Genre"
         },
         "tracegroupgap": 0
        },
        "template": {
         "data": {
          "bar": [
           {
            "error_x": {
             "color": "#2a3f5f"
            },
            "error_y": {
             "color": "#2a3f5f"
            },
            "marker": {
             "line": {
              "color": "#E5ECF6",
              "width": 0.5
             }
            },
            "type": "bar"
           }
          ],
          "barpolar": [
           {
            "marker": {
             "line": {
              "color": "#E5ECF6",
              "width": 0.5
             }
            },
            "type": "barpolar"
           }
          ],
          "carpet": [
           {
            "aaxis": {
             "endlinecolor": "#2a3f5f",
             "gridcolor": "white",
             "linecolor": "white",
             "minorgridcolor": "white",
             "startlinecolor": "#2a3f5f"
            },
            "baxis": {
             "endlinecolor": "#2a3f5f",
             "gridcolor": "white",
             "linecolor": "white",
             "minorgridcolor": "white",
             "startlinecolor": "#2a3f5f"
            },
            "type": "carpet"
           }
          ],
          "choropleth": [
           {
            "colorbar": {
             "outlinewidth": 0,
             "ticks": ""
            },
            "type": "choropleth"
           }
          ],
          "contour": [
           {
            "colorbar": {
             "outlinewidth": 0,
             "ticks": ""
            },
            "colorscale": [
             [
              0,
              "#0d0887"
             ],
             [
              0.1111111111111111,
              "#46039f"
             ],
             [
              0.2222222222222222,
              "#7201a8"
             ],
             [
              0.3333333333333333,
              "#9c179e"
             ],
             [
              0.4444444444444444,
              "#bd3786"
             ],
             [
              0.5555555555555556,
              "#d8576b"
             ],
             [
              0.6666666666666666,
              "#ed7953"
             ],
             [
              0.7777777777777778,
              "#fb9f3a"
             ],
             [
              0.8888888888888888,
              "#fdca26"
             ],
             [
              1,
              "#f0f921"
             ]
            ],
            "type": "contour"
           }
          ],
          "contourcarpet": [
           {
            "colorbar": {
             "outlinewidth": 0,
             "ticks": ""
            },
            "type": "contourcarpet"
           }
          ],
          "heatmap": [
           {
            "colorbar": {
             "outlinewidth": 0,
             "ticks": ""
            },
            "colorscale": [
             [
              0,
              "#0d0887"
             ],
             [
              0.1111111111111111,
              "#46039f"
             ],
             [
              0.2222222222222222,
              "#7201a8"
             ],
             [
              0.3333333333333333,
              "#9c179e"
             ],
             [
              0.4444444444444444,
              "#bd3786"
             ],
             [
              0.5555555555555556,
              "#d8576b"
             ],
             [
              0.6666666666666666,
              "#ed7953"
             ],
             [
              0.7777777777777778,
              "#fb9f3a"
             ],
             [
              0.8888888888888888,
              "#fdca26"
             ],
             [
              1,
              "#f0f921"
             ]
            ],
            "type": "heatmap"
           }
          ],
          "heatmapgl": [
           {
            "colorbar": {
             "outlinewidth": 0,
             "ticks": ""
            },
            "colorscale": [
             [
              0,
              "#0d0887"
             ],
             [
              0.1111111111111111,
              "#46039f"
             ],
             [
              0.2222222222222222,
              "#7201a8"
             ],
             [
              0.3333333333333333,
              "#9c179e"
             ],
             [
              0.4444444444444444,
              "#bd3786"
             ],
             [
              0.5555555555555556,
              "#d8576b"
             ],
             [
              0.6666666666666666,
              "#ed7953"
             ],
             [
              0.7777777777777778,
              "#fb9f3a"
             ],
             [
              0.8888888888888888,
              "#fdca26"
             ],
             [
              1,
              "#f0f921"
             ]
            ],
            "type": "heatmapgl"
           }
          ],
          "histogram": [
           {
            "marker": {
             "colorbar": {
              "outlinewidth": 0,
              "ticks": ""
             }
            },
            "type": "histogram"
           }
          ],
          "histogram2d": [
           {
            "colorbar": {
             "outlinewidth": 0,
             "ticks": ""
            },
            "colorscale": [
             [
              0,
              "#0d0887"
             ],
             [
              0.1111111111111111,
              "#46039f"
             ],
             [
              0.2222222222222222,
              "#7201a8"
             ],
             [
              0.3333333333333333,
              "#9c179e"
             ],
             [
              0.4444444444444444,
              "#bd3786"
             ],
             [
              0.5555555555555556,
              "#d8576b"
             ],
             [
              0.6666666666666666,
              "#ed7953"
             ],
             [
              0.7777777777777778,
              "#fb9f3a"
             ],
             [
              0.8888888888888888,
              "#fdca26"
             ],
             [
              1,
              "#f0f921"
             ]
            ],
            "type": "histogram2d"
           }
          ],
          "histogram2dcontour": [
           {
            "colorbar": {
             "outlinewidth": 0,
             "ticks": ""
            },
            "colorscale": [
             [
              0,
              "#0d0887"
             ],
             [
              0.1111111111111111,
              "#46039f"
             ],
             [
              0.2222222222222222,
              "#7201a8"
             ],
             [
              0.3333333333333333,
              "#9c179e"
             ],
             [
              0.4444444444444444,
              "#bd3786"
             ],
             [
              0.5555555555555556,
              "#d8576b"
             ],
             [
              0.6666666666666666,
              "#ed7953"
             ],
             [
              0.7777777777777778,
              "#fb9f3a"
             ],
             [
              0.8888888888888888,
              "#fdca26"
             ],
             [
              1,
              "#f0f921"
             ]
            ],
            "type": "histogram2dcontour"
           }
          ],
          "mesh3d": [
           {
            "colorbar": {
             "outlinewidth": 0,
             "ticks": ""
            },
            "type": "mesh3d"
           }
          ],
          "parcoords": [
           {
            "line": {
             "colorbar": {
              "outlinewidth": 0,
              "ticks": ""
             }
            },
            "type": "parcoords"
           }
          ],
          "pie": [
           {
            "automargin": true,
            "type": "pie"
           }
          ],
          "scatter": [
           {
            "marker": {
             "colorbar": {
              "outlinewidth": 0,
              "ticks": ""
             }
            },
            "type": "scatter"
           }
          ],
          "scatter3d": [
           {
            "line": {
             "colorbar": {
              "outlinewidth": 0,
              "ticks": ""
             }
            },
            "marker": {
             "colorbar": {
              "outlinewidth": 0,
              "ticks": ""
             }
            },
            "type": "scatter3d"
           }
          ],
          "scattercarpet": [
           {
            "marker": {
             "colorbar": {
              "outlinewidth": 0,
              "ticks": ""
             }
            },
            "type": "scattercarpet"
           }
          ],
          "scattergeo": [
           {
            "marker": {
             "colorbar": {
              "outlinewidth": 0,
              "ticks": ""
             }
            },
            "type": "scattergeo"
           }
          ],
          "scattergl": [
           {
            "marker": {
             "colorbar": {
              "outlinewidth": 0,
              "ticks": ""
             }
            },
            "type": "scattergl"
           }
          ],
          "scattermapbox": [
           {
            "marker": {
             "colorbar": {
              "outlinewidth": 0,
              "ticks": ""
             }
            },
            "type": "scattermapbox"
           }
          ],
          "scatterpolar": [
           {
            "marker": {
             "colorbar": {
              "outlinewidth": 0,
              "ticks": ""
             }
            },
            "type": "scatterpolar"
           }
          ],
          "scatterpolargl": [
           {
            "marker": {
             "colorbar": {
              "outlinewidth": 0,
              "ticks": ""
             }
            },
            "type": "scatterpolargl"
           }
          ],
          "scatterternary": [
           {
            "marker": {
             "colorbar": {
              "outlinewidth": 0,
              "ticks": ""
             }
            },
            "type": "scatterternary"
           }
          ],
          "surface": [
           {
            "colorbar": {
             "outlinewidth": 0,
             "ticks": ""
            },
            "colorscale": [
             [
              0,
              "#0d0887"
             ],
             [
              0.1111111111111111,
              "#46039f"
             ],
             [
              0.2222222222222222,
              "#7201a8"
             ],
             [
              0.3333333333333333,
              "#9c179e"
             ],
             [
              0.4444444444444444,
              "#bd3786"
             ],
             [
              0.5555555555555556,
              "#d8576b"
             ],
             [
              0.6666666666666666,
              "#ed7953"
             ],
             [
              0.7777777777777778,
              "#fb9f3a"
             ],
             [
              0.8888888888888888,
              "#fdca26"
             ],
             [
              1,
              "#f0f921"
             ]
            ],
            "type": "surface"
           }
          ],
          "table": [
           {
            "cells": {
             "fill": {
              "color": "#EBF0F8"
             },
             "line": {
              "color": "white"
             }
            },
            "header": {
             "fill": {
              "color": "#C8D4E3"
             },
             "line": {
              "color": "white"
             }
            },
            "type": "table"
           }
          ]
         },
         "layout": {
          "annotationdefaults": {
           "arrowcolor": "#2a3f5f",
           "arrowhead": 0,
           "arrowwidth": 1
          },
          "coloraxis": {
           "colorbar": {
            "outlinewidth": 0,
            "ticks": ""
           }
          },
          "colorscale": {
           "diverging": [
            [
             0,
             "#8e0152"
            ],
            [
             0.1,
             "#c51b7d"
            ],
            [
             0.2,
             "#de77ae"
            ],
            [
             0.3,
             "#f1b6da"
            ],
            [
             0.4,
             "#fde0ef"
            ],
            [
             0.5,
             "#f7f7f7"
            ],
            [
             0.6,
             "#e6f5d0"
            ],
            [
             0.7,
             "#b8e186"
            ],
            [
             0.8,
             "#7fbc41"
            ],
            [
             0.9,
             "#4d9221"
            ],
            [
             1,
             "#276419"
            ]
           ],
           "sequential": [
            [
             0,
             "#0d0887"
            ],
            [
             0.1111111111111111,
             "#46039f"
            ],
            [
             0.2222222222222222,
             "#7201a8"
            ],
            [
             0.3333333333333333,
             "#9c179e"
            ],
            [
             0.4444444444444444,
             "#bd3786"
            ],
            [
             0.5555555555555556,
             "#d8576b"
            ],
            [
             0.6666666666666666,
             "#ed7953"
            ],
            [
             0.7777777777777778,
             "#fb9f3a"
            ],
            [
             0.8888888888888888,
             "#fdca26"
            ],
            [
             1,
             "#f0f921"
            ]
           ],
           "sequentialminus": [
            [
             0,
             "#0d0887"
            ],
            [
             0.1111111111111111,
             "#46039f"
            ],
            [
             0.2222222222222222,
             "#7201a8"
            ],
            [
             0.3333333333333333,
             "#9c179e"
            ],
            [
             0.4444444444444444,
             "#bd3786"
            ],
            [
             0.5555555555555556,
             "#d8576b"
            ],
            [
             0.6666666666666666,
             "#ed7953"
            ],
            [
             0.7777777777777778,
             "#fb9f3a"
            ],
            [
             0.8888888888888888,
             "#fdca26"
            ],
            [
             1,
             "#f0f921"
            ]
           ]
          },
          "colorway": [
           "#636efa",
           "#EF553B",
           "#00cc96",
           "#ab63fa",
           "#FFA15A",
           "#19d3f3",
           "#FF6692",
           "#B6E880",
           "#FF97FF",
           "#FECB52"
          ],
          "font": {
           "color": "#2a3f5f"
          },
          "geo": {
           "bgcolor": "white",
           "lakecolor": "white",
           "landcolor": "#E5ECF6",
           "showlakes": true,
           "showland": true,
           "subunitcolor": "white"
          },
          "hoverlabel": {
           "align": "left"
          },
          "hovermode": "closest",
          "mapbox": {
           "style": "light"
          },
          "paper_bgcolor": "white",
          "plot_bgcolor": "#E5ECF6",
          "polar": {
           "angularaxis": {
            "gridcolor": "white",
            "linecolor": "white",
            "ticks": ""
           },
           "bgcolor": "#E5ECF6",
           "radialaxis": {
            "gridcolor": "white",
            "linecolor": "white",
            "ticks": ""
           }
          },
          "scene": {
           "xaxis": {
            "backgroundcolor": "#E5ECF6",
            "gridcolor": "white",
            "gridwidth": 2,
            "linecolor": "white",
            "showbackground": true,
            "ticks": "",
            "zerolinecolor": "white"
           },
           "yaxis": {
            "backgroundcolor": "#E5ECF6",
            "gridcolor": "white",
            "gridwidth": 2,
            "linecolor": "white",
            "showbackground": true,
            "ticks": "",
            "zerolinecolor": "white"
           },
           "zaxis": {
            "backgroundcolor": "#E5ECF6",
            "gridcolor": "white",
            "gridwidth": 2,
            "linecolor": "white",
            "showbackground": true,
            "ticks": "",
            "zerolinecolor": "white"
           }
          },
          "shapedefaults": {
           "line": {
            "color": "#2a3f5f"
           }
          },
          "ternary": {
           "aaxis": {
            "gridcolor": "white",
            "linecolor": "white",
            "ticks": ""
           },
           "baxis": {
            "gridcolor": "white",
            "linecolor": "white",
            "ticks": ""
           },
           "bgcolor": "#E5ECF6",
           "caxis": {
            "gridcolor": "white",
            "linecolor": "white",
            "ticks": ""
           }
          },
          "title": {
           "x": 0.05
          },
          "xaxis": {
           "automargin": true,
           "gridcolor": "white",
           "linecolor": "white",
           "ticks": "",
           "title": {
            "standoff": 15
           },
           "zerolinecolor": "white",
           "zerolinewidth": 2
          },
          "yaxis": {
           "automargin": true,
           "gridcolor": "white",
           "linecolor": "white",
           "ticks": "",
           "title": {
            "standoff": 15
           },
           "zerolinecolor": "white",
           "zerolinewidth": 2
          }
         }
        },
        "title": {
         "text": "Game Genre by Platform"
        },
        "xaxis": {
         "anchor": "y",
         "domain": [
          0,
          1
         ],
         "title": {
          "text": "Revenue"
         }
        },
        "yaxis": {
         "anchor": "x",
         "domain": [
          0,
          1
         ],
         "title": {
          "text": "Platform"
         }
        }
       }
      }
     },
     "metadata": {}
    }
   ],
   "source": [
    "fig = px.bar(sales_summary, x=\"Revenue\", y=\"Platform\", color='Genre', orientation='h',\n",
    "             hover_data=[\"Revenue\", \"Platform\"],\n",
    "             height=400,\n",
    "             title='Game Genre by Platform')\n",
    "\n",
    "# fig.update_layout(annotations=[\n",
    "#        go.layout.Annotation(\n",
    "#             showarrow=False,\n",
    "#             text='Subtitle',\n",
    "#             xanchor='right',\n",
    "#             x=1,\n",
    "#             xshift=275,\n",
    "#             yanchor='top',\n",
    "#             y=0.05,\n",
    "#             font=dict(\n",
    "#                 family=\"Courier New, monospace\",\n",
    "#                 size=22,\n",
    "#                 color=\"#0000FF\"\n",
    "#             )\n",
    "#         )])\n",
    "\n",
    "# fig['layout']['xaxis'].update(side='top')\n",
    "\n",
    "fig.show()"
   ]
  },
  {
   "cell_type": "code",
   "execution_count": null,
   "metadata": {},
   "outputs": [],
   "source": []
  }
 ],
 "metadata": {
  "language_info": {
   "codemirror_mode": {
    "name": "ipython",
    "version": 3
   },
   "file_extension": ".py",
   "mimetype": "text/x-python",
   "name": "python",
   "nbconvert_exporter": "python",
   "pygments_lexer": "ipython3",
   "version": "3.7.4-final"
  },
  "orig_nbformat": 2,
  "kernelspec": {
   "name": "python3",
   "display_name": "Python 3"
  }
 },
 "nbformat": 4,
 "nbformat_minor": 2
}